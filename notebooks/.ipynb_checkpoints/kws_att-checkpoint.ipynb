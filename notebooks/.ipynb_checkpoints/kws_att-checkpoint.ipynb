{
 "cells": [
  {
   "cell_type": "code",
   "execution_count": 1,
   "metadata": {},
   "outputs": [],
   "source": [
    "%matplotlib inline\n",
    "import torch\n",
    "import torch.nn.functional as F\n",
    "import json\n",
    "import numpy as np\n",
    "from espnet.utils.io_utils import LoadInputsAndTargets\n",
    "from espnet.utils.training.batchfy import make_batchset\n",
    "from espnet.asr.pytorch_backend.asr_init import load_trained_model\n",
    "from espnet.asr.pytorch_backend.asr import CustomConverter\n",
    "import matplotlib.pyplot as plt"
   ]
  },
  {
   "cell_type": "code",
   "execution_count": 2,
   "metadata": {},
   "outputs": [],
   "source": [
    "device = torch.device(\"cpu\")"
   ]
  },
  {
   "cell_type": "code",
   "execution_count": 3,
   "metadata": {},
   "outputs": [],
   "source": [
    "with open(\"/root/kws_data/dump/train/deltafalse/data.json\", \"r\") as f:\n",
    "    data_json = json.load(f)[\"utts\"]"
   ]
  },
  {
   "cell_type": "code",
   "execution_count": 4,
   "metadata": {},
   "outputs": [],
   "source": [
    "data_batches = make_batchset(data_json, 1)"
   ]
  },
  {
   "cell_type": "code",
   "execution_count": 5,
   "metadata": {},
   "outputs": [],
   "source": [
    "load_tr = LoadInputsAndTargets(\n",
    "        mode='asr', load_output=True, preprocess_conf=None,\n",
    "        preprocess_args={'train': True}  # Switch the mode of preprocessing\n",
    "    )"
   ]
  },
  {
   "cell_type": "code",
   "execution_count": 6,
   "metadata": {},
   "outputs": [
    {
     "name": "stderr",
     "output_type": "stream",
     "text": [
      "/root/espnet/tools/venv/lib/python3.6/site-packages/torch/nn/modules/rnn.py:46: UserWarning: dropout option adds dropout after all but last recurrent layer, so non-zero dropout expects num_layers greater than 1, but got dropout=0.1 and num_layers=1\n",
      "  \"num_layers={}\".format(dropout, num_layers))\n"
     ]
    }
   ],
   "source": [
    "model, train_args = load_trained_model(\"/shreekanth2/train_clean_100_pytorch_phone_hybrid/results/model.acc.best\")\n",
    "model = model.to(device=device)\n",
    "model.dec.sampling_probability = 0"
   ]
  },
  {
   "cell_type": "code",
   "execution_count": 7,
   "metadata": {},
   "outputs": [],
   "source": [
    "converter = CustomConverter(subsampling_factor=1, dtype=torch.float32)"
   ]
  },
  {
   "cell_type": "code",
   "execution_count": 8,
   "metadata": {},
   "outputs": [
    {
     "data": {
      "text/plain": [
       "[('c673bc5e-859b-4d4d-ab86-ff4d7a9c9737',\n",
       "  {'input': [{'feat': '/root/kws_data/dump/train/deltafalse//feats.25.ark:41105713',\n",
       "     'name': 'input1',\n",
       "     'shape': [741, 80]}],\n",
       "   'output': [{'name': 'target1',\n",
       "     'shape': [1, 5],\n",
       "     'text': '0',\n",
       "     'token': '0',\n",
       "     'tokenid': '2'}],\n",
       "   'utt2spk': 'c673bc5e-859b-4d4d-ab86-ff4d7a9c9737'})]"
      ]
     },
     "execution_count": 8,
     "metadata": {},
     "output_type": "execute_result"
    }
   ],
   "source": [
    "data_batches[1000]"
   ]
  },
  {
   "cell_type": "code",
   "execution_count": 9,
   "metadata": {},
   "outputs": [
    {
     "data": {
      "text/plain": [
       "[('38e81e02-72a7-46b5-b551-134e00df66b3',\n",
       "  {'input': [{'feat': '/root/kws_data/dump/train/deltafalse//feats.8.ark:5891195',\n",
       "     'name': 'input1',\n",
       "     'shape': [128, 80]}],\n",
       "   'output': [{'name': 'target1',\n",
       "     'shape': [1, 5],\n",
       "     'text': '1',\n",
       "     'token': '1',\n",
       "     'tokenid': '3'}],\n",
       "   'utt2spk': '38e81e02-72a7-46b5-b551-134e00df66b3'})]"
      ]
     },
     "execution_count": 9,
     "metadata": {},
     "output_type": "execute_result"
    }
   ],
   "source": [
    "data_batches[-200]"
   ]
  },
  {
   "cell_type": "code",
   "execution_count": 10,
   "metadata": {},
   "outputs": [],
   "source": [
    "phone_to_int = dict(zip(train_args.char_list, np.arange(len(train_args.char_list))))"
   ]
  },
  {
   "cell_type": "code",
   "execution_count": 11,
   "metadata": {},
   "outputs": [],
   "source": [
    "keyword = \"<space> HH EY <space> S N IH P S <space>\""
   ]
  },
  {
   "cell_type": "code",
   "execution_count": 12,
   "metadata": {},
   "outputs": [],
   "source": [
    "keyword_tokens = torch.tensor([[phone_to_int[phn] for phn in keyword.split(\" \")]]).to(device)"
   ]
  },
  {
   "cell_type": "code",
   "execution_count": 13,
   "metadata": {},
   "outputs": [
    {
     "data": {
      "text/plain": [
       "tensor([[ 2, 18, 15,  2, 31, 25, 19, 29, 31,  2]])"
      ]
     },
     "execution_count": 13,
     "metadata": {},
     "output_type": "execute_result"
    }
   ],
   "source": [
    "keyword_tokens"
   ]
  },
  {
   "cell_type": "code",
   "execution_count": 14,
   "metadata": {},
   "outputs": [],
   "source": [
    "neg_data_input = [load_tr(data_batches[1000])]\n",
    "pos_data_input = [load_tr(data_batches[-200])]"
   ]
  },
  {
   "cell_type": "code",
   "execution_count": 15,
   "metadata": {},
   "outputs": [],
   "source": [
    "neg_data = converter(neg_data_input, device)\n",
    "pos_data = converter(pos_data_input, device)"
   ]
  },
  {
   "cell_type": "code",
   "execution_count": 16,
   "metadata": {},
   "outputs": [],
   "source": [
    "neg_hs_pad, neg_hlens, _ = model.enc(neg_data[0], neg_data[1])\n",
    "pos_hs_pad, pos_hlens, _ = model.enc(pos_data[0], pos_data[1])"
   ]
  },
  {
   "cell_type": "code",
   "execution_count": 17,
   "metadata": {},
   "outputs": [],
   "source": [
    "att_loss, acc, ppl, neg_att_w_list = model.dec(neg_hs_pad, neg_hlens, keyword_tokens)"
   ]
  },
  {
   "cell_type": "code",
   "execution_count": 18,
   "metadata": {},
   "outputs": [],
   "source": [
    "att_loss, acc, ppl, pos_att_w_list = model.dec(pos_hs_pad, pos_hlens, keyword_tokens)"
   ]
  },
  {
   "cell_type": "code",
   "execution_count": 19,
   "metadata": {},
   "outputs": [],
   "source": [
    "def get_att_plot(att_w_list):\n",
    "    atts = [ele.detach().cpu().numpy().flatten() for ele in att_w_list]\n",
    "    atts = np.array(atts)\n",
    "    sum_att = np.diff(atts, axis=-1)\n",
    "    return sum_att"
   ]
  },
  {
   "cell_type": "code",
   "execution_count": 20,
   "metadata": {},
   "outputs": [],
   "source": [
    "# plt.plot(get_att_plot(neg_att_w_list))\n",
    "# np.trapz(get_att_plot(pos_att_w_list), dx=1)\n",
    "# np.trapz(get_att_plot(neg_att_w_list), dx=1)"
   ]
  },
  {
   "cell_type": "code",
   "execution_count": 21,
   "metadata": {},
   "outputs": [],
   "source": [
    "def get_att_score(att_w_list):\n",
    "    atts = [ele.detach().cpu().numpy().flatten() for ele in att_w_list]\n",
    "    atts = np.array(atts)\n",
    "    init_att = atts[0]\n",
    "    for att in atts[1:]:\n",
    "        init_att = np.abs(init_att - att)\n",
    "    att_score = np.trapz(init_att, dx=1)\n",
    "    return init_att, att_score"
   ]
  },
  {
   "cell_type": "code",
   "execution_count": 22,
   "metadata": {},
   "outputs": [
    {
     "data": {
      "text/plain": [
       "[<matplotlib.lines.Line2D at 0x7ffefc50ac50>]"
      ]
     },
     "execution_count": 22,
     "metadata": {},
     "output_type": "execute_result"
    },
    {
     "data": {
      "image/png": "[encoded data removed]",
      "text/plain": [
       "<Figure size 432x288 with 1 Axes>"
      ]
     },
     "metadata": {
      "needs_background": "light"
     },
     "output_type": "display_data"
    }
   ],
   "source": [
    "att, score = get_att_score(pos_att_w_list)\n",
    "plt.plot(att)\n",
    "print(score)"
   ]
  },
  {
   "cell_type": "code",
   "execution_count": 23,
   "metadata": {},
   "outputs": [
    {
     "data": {
      "text/plain": [
       "[<matplotlib.lines.Line2D at 0x7ffefc3f4be0>]"
      ]
     },
     "execution_count": 23,
     "metadata": {},
     "output_type": "execute_result"
    },
    {
     "data": {
      "image/png": "[encoded data removed]",
      "text/plain": [
       "<Figure size 432x288 with 1 Axes>"
      ]
     },
     "metadata": {
      "needs_background": "light"
     },
     "output_type": "display_data"
    }
   ],
   "source": [
    "att, score = get_att_score(neg_att_w_list)\n",
    "plt.plot(att)\n",
    "print(score)"
   ]
  }
 ],
 "metadata": {
  "kernelspec": {
   "display_name": "Python 3",
   "language": "python",
   "name": "python3"
  },
  "language_info": {
   "codemirror_mode": {
    "name": "ipython",
    "version": 3
   },
   "file_extension": ".py",
   "mimetype": "text/x-python",
   "name": "python",
   "nbconvert_exporter": "python",
   "pygments_lexer": "ipython3",
   "version": "3.6.9"
  }
 },
 "nbformat": 4,
 "nbformat_minor": 4
}
