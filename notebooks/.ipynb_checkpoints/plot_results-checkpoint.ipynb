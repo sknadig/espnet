{
 "cells": [
  {
   "cell_type": "code",
   "execution_count": 1,
   "metadata": {},
   "outputs": [],
   "source": [
    "# roc curve and auc\n",
    "from sklearn.datasets import make_classification\n",
    "from sklearn.metrics import roc_curve\n",
    "from sklearn.metrics import roc_auc_score\n",
    "from matplotlib import pyplot\n",
    "import numpy as np"
   ]
  },
  {
   "cell_type": "code",
   "execution_count": 2,
   "metadata": {},
   "outputs": [],
   "source": [
    "with open(\"/root/kws_data/results/train_confidences_ctc_att_small_sp1_as.txt\", \"r\") as f:\n",
    "    contents = f.readlines()"
   ]
  },
  {
   "cell_type": "code",
   "execution_count": 3,
   "metadata": {},
   "outputs": [
    {
     "data": {
      "text/plain": [
       "['112.49784851074219,41.465049743652344,0.0,28.174574,0\\n',\n",
       " '113.53727722167969,38.73402404785156,0.0,5.9808545,0\\n',\n",
       " '113.2496566772461,41.946598052978516,0.18181818181818182,7.0539966,0\\n',\n",
       " '115.8060073852539,39.366294860839844,0.0,7.410533,0\\n',\n",
       " '113.52290344238281,37.86322021484375,0.09090909090909091,25.69279,0\\n',\n",
       " '113.0109634399414,40.77899932861328,0.09090909090909091,3.8995306,0\\n',\n",
       " '117.0151138305664,38.413368225097656,0.0,13.777388,0\\n',\n",
       " '312.9187316894531,50.77277755737305,0.0,12.997748,0\\n',\n",
       " '776.9417114257812,47.000431060791016,0.09090909090909091,7.9699244,0\\n',\n",
       " '237.60403442382812,46.43430709838867,0.2727272727272727,26.498518,0\\n']"
      ]
     },
     "execution_count": 3,
     "metadata": {},
     "output_type": "execute_result"
    }
   ],
   "source": [
    "contents[:10]"
   ]
  },
  {
   "cell_type": "code",
   "execution_count": 4,
   "metadata": {},
   "outputs": [],
   "source": [
    "contents = [ele.strip().split(\",\") for ele in contents]\n",
    "for i in range(len(contents)):\n",
    "    contents[i][0] = float(contents[i][0])\n",
    "    contents[i][1] = float(contents[i][1])\n",
    "    contents[i][2] = float(contents[i][2])\n",
    "    contents[i][3] = float(contents[i][3])\n",
    "contents = np.array(contents)"
   ]
  },
  {
   "cell_type": "code",
   "execution_count": 6,
   "metadata": {},
   "outputs": [
    {
     "ename": "TypeError",
     "evalue": "ufunc 'true_divide' not supported for the input types, and the inputs could not be safely coerced to any supported types according to the casting rule ''safe''",
     "output_type": "error",
     "traceback": [
      "\u001b[0;31m---------------------------------------------------------------------------\u001b[0m",
      "\u001b[0;31mTypeError\u001b[0m                                 Traceback (most recent call last)",
      "\u001b[0;32m<ipython-input-6-4bd355bf45ce>\u001b[0m in \u001b[0;36m<module>\u001b[0;34m\u001b[0m\n\u001b[0;32m----> 1\u001b[0;31m \u001b[0mcontents\u001b[0m\u001b[0;34m[\u001b[0m\u001b[0;34m:\u001b[0m\u001b[0;34m,\u001b[0m\u001b[0;36m0\u001b[0m\u001b[0;34m]\u001b[0m \u001b[0;34m/=\u001b[0m \u001b[0mmax\u001b[0m\u001b[0;34m(\u001b[0m\u001b[0mcontents\u001b[0m\u001b[0;34m[\u001b[0m\u001b[0;34m:\u001b[0m\u001b[0;34m,\u001b[0m\u001b[0;36m0\u001b[0m\u001b[0;34m]\u001b[0m\u001b[0;34m)\u001b[0m\u001b[0;34m\u001b[0m\u001b[0;34m\u001b[0m\u001b[0m\n\u001b[0m\u001b[1;32m      2\u001b[0m \u001b[0mcontents\u001b[0m\u001b[0;34m[\u001b[0m\u001b[0;34m:\u001b[0m\u001b[0;34m,\u001b[0m\u001b[0;36m1\u001b[0m\u001b[0;34m]\u001b[0m \u001b[0;34m/=\u001b[0m \u001b[0mmax\u001b[0m\u001b[0;34m(\u001b[0m\u001b[0mcontents\u001b[0m\u001b[0;34m[\u001b[0m\u001b[0;34m:\u001b[0m\u001b[0;34m,\u001b[0m\u001b[0;36m1\u001b[0m\u001b[0;34m]\u001b[0m\u001b[0;34m)\u001b[0m\u001b[0;34m\u001b[0m\u001b[0;34m\u001b[0m\u001b[0m\n\u001b[1;32m      3\u001b[0m \u001b[0mcontents\u001b[0m\u001b[0;34m[\u001b[0m\u001b[0;34m:\u001b[0m\u001b[0;34m,\u001b[0m\u001b[0;36m3\u001b[0m\u001b[0;34m]\u001b[0m \u001b[0;34m/=\u001b[0m \u001b[0mmax\u001b[0m\u001b[0;34m(\u001b[0m\u001b[0mcontents\u001b[0m\u001b[0;34m[\u001b[0m\u001b[0;34m:\u001b[0m\u001b[0;34m,\u001b[0m\u001b[0;36m3\u001b[0m\u001b[0;34m]\u001b[0m\u001b[0;34m)\u001b[0m\u001b[0;34m\u001b[0m\u001b[0;34m\u001b[0m\u001b[0m\n\u001b[1;32m      4\u001b[0m \u001b[0mcontents\u001b[0m\u001b[0;34m[\u001b[0m\u001b[0;34m:\u001b[0m\u001b[0;34m,\u001b[0m\u001b[0;34m-\u001b[0m\u001b[0;36m1\u001b[0m\u001b[0;34m]\u001b[0m \u001b[0;34m=\u001b[0m \u001b[0;36m1\u001b[0m \u001b[0;34m-\u001b[0m \u001b[0mcontents\u001b[0m\u001b[0;34m[\u001b[0m\u001b[0;34m:\u001b[0m\u001b[0;34m,\u001b[0m\u001b[0;34m-\u001b[0m\u001b[0;36m1\u001b[0m\u001b[0;34m]\u001b[0m\u001b[0;34m\u001b[0m\u001b[0;34m\u001b[0m\u001b[0m\n",
      "\u001b[0;31mTypeError\u001b[0m: ufunc 'true_divide' not supported for the input types, and the inputs could not be safely coerced to any supported types according to the casting rule ''safe''"
     ]
    }
   ],
   "source": [
    "contents[:,0] /= max(contents[:,0])\n",
    "contents[:,1] /= max(contents[:,1])\n",
    "contents[:,2] /= max(contents[:,2])\n",
    "contents[:,-1] = 1 - contents[:,-1]"
   ]
  },
  {
   "cell_type": "code",
   "execution_count": null,
   "metadata": {},
   "outputs": [],
   "source": [
    "no_skill = np.array([0 for _ in range(len(contents))])"
   ]
  },
  {
   "cell_type": "code",
   "execution_count": null,
   "metadata": {},
   "outputs": [],
   "source": [
    "ctc_loss_kws_auc = roc_auc_score(contents[:,-1], contents[:,0])\n",
    "att_loss_kws_auc = roc_auc_score(contents[:,-1], contents[:,1])\n",
    "att_acc_kws_auc = roc_auc_score(contents[:,-1], contents[:,2])\n",
    "combined_kws_auc = roc_auc_score(contents[:,-1], confidence_scores)"
   ]
  },
  {
   "cell_type": "code",
   "execution_count": null,
   "metadata": {},
   "outputs": [],
   "source": [
    "print(\"CTC loss KWS ROC AUC: \", ctc_loss_kws_auc)\n",
    "print(\"ATT loss KWS ROC AUC: \", att_loss_kws_auc)\n",
    "print(\"ATT acc KWS ROC AUC: \", att_acc_kws_auc)\n",
    "print(\"Combined ROC AUC: \", combined_kws_auc)"
   ]
  },
  {
   "cell_type": "code",
   "execution_count": null,
   "metadata": {},
   "outputs": [],
   "source": [
    "ctc_ns_fpr, ctc_ns_tpr, _ = roc_curve(contents[:,-1], no_skill)\n",
    "ctc_kws_fpr, ctc_kws_tpr, _ = roc_curve(contents[:,-1], contents[:,0])\n",
    "\n",
    "att_ns_fpr, att_ns_tpr, _ = roc_curve(contents[:,-1], no_skill)\n",
    "att_kws_fpr, att_kws_tpr, _ = roc_curve(contents[:,-1], contents[:,1])\n",
    "\n",
    "att_acc_ns_fpr, att_acc_ns_tpr, _ = roc_curve(contents[:,-1], no_skill)\n",
    "att_acc_kws_fpr, att_acc_kws_tpr, _ = roc_curve(contents[:,-1], contents[:,2])"
   ]
  },
  {
   "cell_type": "code",
   "execution_count": null,
   "metadata": {},
   "outputs": [],
   "source": [
    "pyplot.plot(ctc_ns_fpr, ctc_ns_tpr, linestyle='--', label='No Skill')\n",
    "pyplot.plot(ctc_kws_fpr, ctc_kws_tpr, marker='.', label='CTC loss KWS. AUC={0}'.format(str(ctc_loss_kws_auc)))\n",
    "pyplot.plot(att_kws_fpr, att_kws_tpr, marker='.', label='ATT loss KWS. AUC={0}'.format(str(att_loss_kws_auc)))\n",
    "# axis labels\n",
    "pyplot.xlabel('False Positive Rate')\n",
    "pyplot.ylabel('True Positive Rate')\n",
    "pyplot.legend()\n",
    "# show the plot\n",
    "pyplot.savefig(\"/root/kws_data/results/result.png\", dpi=300)\n",
    "pyplot.show()"
   ]
  }
 ],
 "metadata": {
  "kernelspec": {
   "display_name": "Python 3",
   "language": "python",
   "name": "python3"
  },
  "language_info": {
   "codemirror_mode": {
    "name": "ipython",
    "version": 3
   },
   "file_extension": ".py",
   "mimetype": "text/x-python",
   "name": "python",
   "nbconvert_exporter": "python",
   "pygments_lexer": "ipython3",
   "version": "3.6.9"
  }
 },
 "nbformat": 4,
 "nbformat_minor": 4
}
