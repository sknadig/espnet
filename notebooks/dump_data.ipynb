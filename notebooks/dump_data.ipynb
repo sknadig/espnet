{
 "cells": [
  {
   "cell_type": "code",
   "execution_count": 1,
   "metadata": {},
   "outputs": [
    {
     "name": "stderr",
     "output_type": "stream",
     "text": [
      "/home/neo/espnet/tools/venv/lib/python3.8/site-packages/chainer/backends/cuda.py:142: UserWarning: cuDNN is not enabled.\n",
      "Please reinstall CuPy after you install cudnn\n",
      "(see https://docs-cupy.chainer.org/en/stable/install.html#install-cudnn).\n",
      "  warnings.warn(\n"
     ]
    }
   ],
   "source": [
    "from espnet.utils.io_utils import LoadInputsAndTargets\n",
    "import json\n",
    "from kaldialign import align, edit_distance\n",
    "from espnet.asr.pytorch_backend.asr_init import load_trained_model\n",
    "from espnet.bin.asr_recog import get_parser\n",
    "from espnet.utils.deterministic_utils import set_deterministic_pytorch\n",
    "import matplotlib.pyplot as plt\n",
    "import numpy as np\n",
    "import torch\n",
    "from tqdm.notebook import tqdm"
   ]
  },
  {
   "cell_type": "code",
   "execution_count": 2,
   "metadata": {},
   "outputs": [
    {
     "name": "stderr",
     "output_type": "stream",
     "text": [
      "WARNING:root:reading model parameters from /home/neo/espnet/egs/timit/asr1/exp/train_nodev_pytorch_test/results/model.acc.best\n"
     ]
    }
   ],
   "source": [
    "model, train_args = load_trained_model('/home/neo/espnet/egs/timit/asr1/exp/train_nodev_pytorch_test/results/model.acc.best', training=False)"
   ]
  },
  {
   "cell_type": "code",
   "execution_count": 3,
   "metadata": {},
   "outputs": [],
   "source": [
    "parser = get_parser()"
   ]
  },
  {
   "cell_type": "code",
   "execution_count": 4,
   "metadata": {},
   "outputs": [],
   "source": [
    "args = parser.parse_args(f'--config  /home/neo/espnet/egs/timit/asr1/conf/decode.yaml \\\n",
    "                          --ngpu 1 --backend pytorch --batchsize 1 --result-label results.json \\\n",
    "                          --model /home/neo/espnet/egs/timit/asr1/exp/train_nodev_pytorch_test/results/model.acc.best \\\n",
    "                          --api v1')\n",
    "set_deterministic_pytorch(args)\n",
    "model.recog_args = args"
   ]
  },
  {
   "cell_type": "code",
   "execution_count": 5,
   "metadata": {},
   "outputs": [],
   "source": [
    "args.beam_size = 10\n",
    "args.lm_weight = 0.0\n",
    "args.ctc_weight = 0.4\n",
    "args.nbest = 1\n",
    "args.verbose = 4\n",
    "args.debugmode = 2\n",
    "model.recog_args = args"
   ]
  },
  {
   "cell_type": "code",
   "execution_count": 16,
   "metadata": {},
   "outputs": [],
   "source": [
    "with open('/home/neo/espnet/egs/timit/asr1/dump/test/deltafalse/data.json', \"rb\") as f:\n",
    "    js = json.load(f)[\"utts\"]"
   ]
  },
  {
   "cell_type": "code",
   "execution_count": 17,
   "metadata": {},
   "outputs": [],
   "source": [
    "load_inputs_and_targets = LoadInputsAndTargets(\n",
    "        mode=\"asr\",\n",
    "        load_output=True,\n",
    "        sort_in_input_length=False,\n",
    "        preprocess_conf=None,\n",
    "        preprocess_args={\"train\": True},\n",
    ")"
   ]
  },
  {
   "cell_type": "code",
   "execution_count": 18,
   "metadata": {},
   "outputs": [],
   "source": [
    "def get_cer(ref, hypo):\n",
    "    ref = [str(ele) for ele in ref[0]]\n",
    "    hyp = [str(ele) for ele in hypo[0]['yseq'][1:-1]]\n",
    "    alignment = align(ref, hyp, '*')\n",
    "    edit_stats = edit_distance(ref, hyp)\n",
    "    cer = (edit_stats['ins'] + edit_stats['del'] + edit_stats['sub'])/len(ref)\n",
    "    return cer, alignment"
   ]
  },
  {
   "cell_type": "code",
   "execution_count": 19,
   "metadata": {},
   "outputs": [],
   "source": [
    "def get_logits_history(hypo):\n",
    "    return torch.stack(hypo[0]['logits_history'][1:-1]).squeeze(axis=1).detach().numpy()\n",
    "def get_att_c_history(hypo):\n",
    "    return torch.stack(hypo[0]['att_c_history'][1:-1]).squeeze(axis=1).detach().numpy()\n",
    "def get_att_w_history(hypo):\n",
    "    return torch.stack(hypo[0]['att_w_history'][-1][1:-1]).squeeze(axis=1).detach().numpy()\n",
    "def get_decoder_states_history(hypo):\n",
    "    return torch.stack([ele[0] for ele in hypo[0]['decoder_states_history'][1:-1]]).squeeze(axis=1).detach().numpy()"
   ]
  },
  {
   "cell_type": "code",
   "execution_count": 20,
   "metadata": {},
   "outputs": [
    {
     "data": {
      "application/vnd.jupyter.widget-view+json": {
       "model_id": "a10f895a728b40bfb988fa45a668839e",
       "version_major": 2,
       "version_minor": 0
      },
      "text/plain": [
       "HBox(children=(FloatProgress(value=0.0, max=192.0), HTML(value='')))"
      ]
     },
     "metadata": {},
     "output_type": "display_data"
    },
    {
     "name": "stderr",
     "output_type": "stream",
     "text": [
      "/home/neo/espnet/espnet/nets/ctc_prefix_score.py:276: RuntimeWarning: invalid value encountered in logaddexp\n",
      "  r_sum = self.xp.logaddexp(\n"
     ]
    },
    {
     "name": "stdout",
     "output_type": "stream",
     "text": [
      "\n"
     ]
    }
   ],
   "source": [
    "for name in tqdm(js.keys()):\n",
    "    batch = [(name, js[name])]\n",
    "    feats, labels = load_inputs_and_targets(batch)\n",
    "    hypo = model.recognize(feats[0], model.recog_args, train_args.char_list)\n",
    "    stats = {}\n",
    "    stats['cer'] = get_cer(labels, hypo)\n",
    "    stats['logits_history'] = get_logits_history(hypo)\n",
    "    stats['att_w_history'] = get_att_w_history(hypo)\n",
    "    stats['att_c_history'] = get_att_c_history(hypo)\n",
    "    stats['decoder_states_history'] = get_decoder_states_history(hypo)\n",
    "    np.save(f'/home/neo/Desktop/projects/perf_monitor/test/{name}.npy', stats)"
   ]
  }
 ],
 "metadata": {
  "kernelspec": {
   "display_name": "Python 3",
   "language": "python",
   "name": "python3"
  },
  "language_info": {
   "codemirror_mode": {
    "name": "ipython",
    "version": 3
   },
   "file_extension": ".py",
   "mimetype": "text/x-python",
   "name": "python",
   "nbconvert_exporter": "python",
   "pygments_lexer": "ipython3",
   "version": "3.8.3"
  }
 },
 "nbformat": 4,
 "nbformat_minor": 4
}
