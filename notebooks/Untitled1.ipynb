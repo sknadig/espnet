{
 "cells": [
  {
   "cell_type": "code",
   "execution_count": 1,
   "metadata": {},
   "outputs": [],
   "source": [
    "import torch\n",
    "from geomloss import SamplesLoss\n",
    "import torch.nn.functional as F\n",
    "import matplotlib.pyplot as plt"
   ]
  },
  {
   "cell_type": "code",
   "execution_count": 49,
   "metadata": {},
   "outputs": [
    {
     "data": {
      "text/plain": [
       "tensor(0., grad_fn=<KlDivBackward>)"
      ]
     },
     "execution_count": 49,
     "metadata": {},
     "output_type": "execute_result"
    }
   ],
   "source": [
    "kl_divergence = torch.nn.KLDivLoss()\n",
    "gt    = torch.tensor([[0,0,0,0,0,0,0,0,0,0,0]], dtype=torch.float32, requires_grad=False)\n",
    "alpha = torch.tensor([[0,0,0,0,0,0,0,0,0,0,1]], dtype=torch.float32, requires_grad=True)\n",
    "kl_divergence(alpha, gt)"
   ]
  },
  {
   "cell_type": "code",
   "execution_count": 50,
   "metadata": {},
   "outputs": [],
   "source": [
    "def smooth_one_hot(true_labels: torch.Tensor, classes: int, smoothing=0.0):\n",
    "    \"\"\"\n",
    "    if smoothing == 0, it's one-hot method\n",
    "    if 0 < smoothing < 1, it's smooth method\n",
    "\n",
    "    \"\"\"\n",
    "    assert 0 <= smoothing < 1\n",
    "    confidence = 1.0 - smoothing\n",
    "    label_shape = torch.Size((true_labels.size(0), classes))\n",
    "    with torch.no_grad():\n",
    "        true_dist = torch.empty(size=label_shape, device=true_labels.device)\n",
    "        true_dist.fill_(smoothing / (classes - 1))\n",
    "        true_dist.scatter_(1, true_labels.data.unsqueeze(1), confidence)\n",
    "    return true_dist"
   ]
  },
  {
   "cell_type": "code",
   "execution_count": 56,
   "metadata": {},
   "outputs": [
    {
     "data": {
      "text/plain": [
       "tensor([[9.9990e-01, 1.6667e-05, 1.6667e-05, 1.6667e-05, 1.6667e-05, 1.6667e-05,\n",
       "         1.6667e-05],\n",
       "        [9.9990e-01, 1.6667e-05, 1.6667e-05, 1.6667e-05, 1.6667e-05, 1.6667e-05,\n",
       "         1.6667e-05],\n",
       "        [9.9990e-01, 1.6667e-05, 1.6667e-05, 1.6667e-05, 1.6667e-05, 1.6667e-05,\n",
       "         1.6667e-05],\n",
       "        [1.6667e-05, 9.9990e-01, 1.6667e-05, 1.6667e-05, 1.6667e-05, 1.6667e-05,\n",
       "         1.6667e-05],\n",
       "        [9.9990e-01, 1.6667e-05, 1.6667e-05, 1.6667e-05, 1.6667e-05, 1.6667e-05,\n",
       "         1.6667e-05],\n",
       "        [9.9990e-01, 1.6667e-05, 1.6667e-05, 1.6667e-05, 1.6667e-05, 1.6667e-05,\n",
       "         1.6667e-05],\n",
       "        [9.9990e-01, 1.6667e-05, 1.6667e-05, 1.6667e-05, 1.6667e-05, 1.6667e-05,\n",
       "         1.6667e-05]])"
      ]
     },
     "execution_count": 56,
     "metadata": {},
     "output_type": "execute_result"
    }
   ],
   "source": [
    "smooth_one_hot(torch.tensor([0,0,0,1,0,0,0]), 7, 0.0001)"
   ]
  }
 ],
 "metadata": {
  "kernelspec": {
   "display_name": "Python 3",
   "language": "python",
   "name": "python3"
  },
  "language_info": {
   "codemirror_mode": {
    "name": "ipython",
    "version": 3
   },
   "file_extension": ".py",
   "mimetype": "text/x-python",
   "name": "python",
   "nbconvert_exporter": "python",
   "pygments_lexer": "ipython3",
   "version": "3.6.9"
  }
 },
 "nbformat": 4,
 "nbformat_minor": 4
}
