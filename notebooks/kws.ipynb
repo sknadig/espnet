{
 "cells": [
  {
   "cell_type": "code",
   "execution_count": null,
   "metadata": {},
   "outputs": [],
   "source": [
    "import torch\n",
    "import torch.nn.functional as F\n",
    "import json\n",
    "import numpy as np\n",
    "from espnet.utils.io_utils import LoadInputsAndTargets\n",
    "from espnet.utils.training.batchfy import make_batchset\n",
    "from espnet.asr.pytorch_backend.asr_init import load_trained_model\n",
    "from espnet.asr.pytorch_backend.asr import CustomConverter"
   ]
  },
  {
   "cell_type": "code",
   "execution_count": null,
   "metadata": {},
   "outputs": [],
   "source": [
    "device = torch.device(\"cpu\")"
   ]
  },
  {
   "cell_type": "code",
   "execution_count": null,
   "metadata": {},
   "outputs": [],
   "source": [
    "with open(\"/root/espnet/egs/librispeech/asr1/dump/dev_clean/deltafalse/data.json\", \"r\") as f:\n",
    "    data_json = json.load(f)[\"utts\"]"
   ]
  },
  {
   "cell_type": "code",
   "execution_count": null,
   "metadata": {},
   "outputs": [],
   "source": [
    "data_batches = make_batchset(data_json, 1)"
   ]
  },
  {
   "cell_type": "code",
   "execution_count": null,
   "metadata": {},
   "outputs": [],
   "source": [
    "load_tr = LoadInputsAndTargets(\n",
    "        mode='asr', load_output=True, preprocess_conf=None,\n",
    "        preprocess_args={'train': True}  # Switch the mode of preprocessing\n",
    "    )"
   ]
  },
  {
   "cell_type": "code",
   "execution_count": null,
   "metadata": {},
   "outputs": [],
   "source": [
    "model, train_args = load_trained_model(\"/root/espnet/egs/librispeech/asr1/exp/train_clean_100_pytorch_phone_hybrid/results/model.acc.best\")\n",
    "model = model.to(device=device)"
   ]
  },
  {
   "cell_type": "code",
   "execution_count": null,
   "metadata": {},
   "outputs": [],
   "source": [
    "converter = CustomConverter(subsampling_factor=1, dtype=torch.float32)"
   ]
  },
  {
   "cell_type": "code",
   "execution_count": null,
   "metadata": {},
   "outputs": [],
   "source": [
    "data_batches[0]"
   ]
  },
  {
   "cell_type": "code",
   "execution_count": null,
   "metadata": {},
   "outputs": [],
   "source": [
    "phone_to_int = dict(zip(train_args.char_list, np.arange(len(train_args.char_list))))"
   ]
  },
  {
   "cell_type": "code",
   "execution_count": null,
   "metadata": {},
   "outputs": [],
   "source": [
    "keyword = \"<space> M AE N AH F EH S T <space>\""
   ]
  },
  {
   "cell_type": "code",
   "execution_count": null,
   "metadata": {},
   "outputs": [],
   "source": [
    "keyword_tokens = torch.tensor([[phone_to_int[phn] for phn in keyword.split(\" \")]]).to(device)"
   ]
  },
  {
   "cell_type": "code",
   "execution_count": null,
   "metadata": {},
   "outputs": [],
   "source": [
    "data_input = [load_tr(data_batches[0])]"
   ]
  },
  {
   "cell_type": "code",
   "execution_count": null,
   "metadata": {},
   "outputs": [],
   "source": [
    "data = converter(data_input, device)"
   ]
  },
  {
   "cell_type": "code",
   "execution_count": null,
   "metadata": {},
   "outputs": [],
   "source": [
    "hs_pad, hlens, _ = model.enc(data[0], data[1])"
   ]
  },
  {
   "cell_type": "code",
   "execution_count": null,
   "metadata": {},
   "outputs": [],
   "source": [
    "print(hs_pad.shape)\n",
    "hs_pad = hs_pad[:, :400 :,]\n",
    "print(hs_pad.shape)\n",
    "\n",
    "best_loss = 9999\n",
    "ctc_losses = []\n",
    "indices = []\n",
    "for start_idx in range(0, hs_pad.size(1) - 50, 2):\n",
    "    for end_idx in range(start_idx+50, min(start_idx+500, hs_pad.size(1)-1), 4):\n",
    "        ctc_loss = model.ctc(hs_pad[:, start_idx:end_idx+1 :,], torch.tensor([end_idx - start_idx]), keyword_tokens)\n",
    "        ctc_losses.append(ctc_loss)\n",
    "        indices.append([start_idx, end_idx])\n",
    "        if(ctc_loss < best_loss):\n",
    "            best_loss = ctc_loss\n",
    "            best_indices = [start_idx, end_idx]"
   ]
  },
  {
   "cell_type": "code",
   "execution_count": null,
   "metadata": {},
   "outputs": [],
   "source": [
    "print(\"Best loss : {0} \\t keyword found between {1} to {2} seconds\".format(str(best_loss), str(best_indices[0]*4/100), str(best_indices[1]*4/100)))"
   ]
  },
  {
   "cell_type": "code",
   "execution_count": null,
   "metadata": {},
   "outputs": [],
   "source": [
    "# print(sorted(list(zip(ctc_losses, indices))))"
   ]
  }
 ],
 "metadata": {
  "kernelspec": {
   "display_name": "Python 3",
   "language": "python",
   "name": "python3"
  },
  "language_info": {
   "codemirror_mode": {
    "name": "ipython",
    "version": 3
   },
   "file_extension": ".py",
   "mimetype": "text/x-python",
   "name": "python",
   "nbconvert_exporter": "python",
   "pygments_lexer": "ipython3",
   "version": "3.6.9"
  }
 },
 "nbformat": 4,
 "nbformat_minor": 4
}
