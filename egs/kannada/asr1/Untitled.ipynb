{
 "cells": [
  {
   "cell_type": "code",
   "execution_count": 12,
   "metadata": {},
   "outputs": [],
   "source": [
    "data = open('data/train/text').readlines()"
   ]
  },
  {
   "cell_type": "code",
   "execution_count": 13,
   "metadata": {},
   "outputs": [],
   "source": [
    "data = [row.strip().split('\\t') for row in data]"
   ]
  },
  {
   "cell_type": "code",
   "execution_count": 7,
   "metadata": {},
   "outputs": [
    {
     "data": {
      "text/plain": [
       "[['knf_00254_00001121784', 'ಪರ್ಜನ್ಯನಿಗೆ ಅನೇಕ ದೂತರಿದ್ದಾರೆ.'],\n",
       " ['knf_00254_00001121784-volp ಪರ್ಜನ್ಯನಿಗೆ ಅನೇಕ ದೂತರಿದ್ದಾರೆ.'],\n",
       " ['knf_00254_00010135812', 'ಅನೇಕ ನಿದರ್ಶನ'],\n",
       " ['knf_00254_00010135812-volp ಅನೇಕ ನಿದರ್ಶನ'],\n",
       " ['knf_00254_00018907375',\n",
       "  'ಅವುಗಳನ್ನು ನಿಯಂತ್ರಿಸುವಾಗ ಕಾದಂಬರಿಕಾರ ಒಂದು ಪದಾರ್ಥದಿಂದ ಮೂರು ಸೂಚನೆಗಳನ್ನು ಹಿಂಡಿಕೊಳ್ಳಬಹುದು.'],\n",
       " ['knf_00254_00018907375-volp ಅವುಗಳನ್ನು ನಿಯಂತ್ರಿಸುವಾಗ ಕಾದಂಬರಿಕಾರ ಒಂದು ಪದಾರ್ಥದಿಂದ ಮೂರು ಸೂಚನೆಗಳನ್ನು ಹಿಂಡಿಕೊಳ್ಳಬಹುದು.'],\n",
       " ['knf_00254_00030010340',\n",
       "  'ನಾವು ರವಾನಿಸುವ ಕಾಗದ ಪತ್ರಗಳ ಮೇಲಿನ ಅಂಚೆ ಚೀಟಿಗಳ ಮೇಲೆ ಇಲಾಖೆಯವರು ತಮ್ಮ ತಾರೀಖಿನ ಮುದ್ರೆಯನ್ನು ಒತ್ತುತ್ತಾರೆ.'],\n",
       " ['knf_00254_00030010340-volp ನಾವು ರವಾನಿಸುವ ಕಾಗದ ಪತ್ರಗಳ ಮೇಲಿನ ಅಂಚೆ ಚೀಟಿಗಳ ಮೇಲೆ ಇಲಾಖೆಯವರು ತಮ್ಮ ತಾರೀಖಿನ ಮುದ್ರೆಯನ್ನು ಒತ್ತುತ್ತಾರೆ.'],\n",
       " ['knf_00254_00048090166', 'ಸಸ್ಯರಸವನ್ನು ಸಸ್ಯಭಾಗದಿಂದ'],\n",
       " ['knf_00254_00048090166-volp ಸಸ್ಯರಸವನ್ನು ಸಸ್ಯಭಾಗದಿಂದ']]"
      ]
     },
     "execution_count": 7,
     "metadata": {},
     "output_type": "execute_result"
    }
   ],
   "source": [
    "with open('data/train/text_new', 'w') as f:\n",
    "    for row in data:\n",
    "        t = ' '.join([char for char in row[1]])\n",
    "        f.write(f'{row[0]} ')"
   ]
  }
 ],
 "metadata": {
  "kernelspec": {
   "display_name": "Python 3",
   "language": "python",
   "name": "python3"
  },
  "language_info": {
   "codemirror_mode": {
    "name": "ipython",
    "version": 3
   },
   "file_extension": ".py",
   "mimetype": "text/x-python",
   "name": "python",
   "nbconvert_exporter": "python",
   "pygments_lexer": "ipython3",
   "version": "3.7.3"
  }
 },
 "nbformat": 4,
 "nbformat_minor": 4
}
