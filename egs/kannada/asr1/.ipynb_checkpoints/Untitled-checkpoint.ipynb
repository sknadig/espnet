{
 "cells": [
  {
   "cell_type": "code",
   "execution_count": 4,
   "metadata": {},
   "outputs": [],
   "source": [
    "data = open('data/train/text').readlines()"
   ]
  },
  {
   "cell_type": "code",
   "execution_count": 5,
   "metadata": {},
   "outputs": [],
   "source": [
    "data = [row.strip().split('\\t') for row in data]"
   ]
  },
  {
   "cell_type": "code",
   "execution_count": 43,
   "metadata": {},
   "outputs": [
    {
     "data": {
      "text/plain": [
       "'ಅ ವ ು ಗ ಳ ನ ್ ನ ು   ನ ಿ ಯ ಂ ತ ್ ರ ಿ ಸ ು ವ ಾ ಗ   ಕ ಾ ದ ಂ ಬ ರ ಿ ಕ ಾ ರ   ಒ ಂ ದ ು   ಪ ದ ಾ ರ ್ ಥ ದ ಿ ಂ ದ   ಮ ೂ ರ ು   ಸ ೂ ಚ ನ ೆ ಗ ಳ ನ ್ ನ ು   ಹ ಿ ಂ ಡ ಿ ಕ ೊ ಳ ್ ಳ ಬ ಹ ು ದ ು .'"
      ]
     },
     "execution_count": 43,
     "metadata": {},
     "output_type": "execute_result"
    }
   ],
   "source": [
    "res = [char for char in data[2][1]]\n",
    "' '.join(res)"
   ]
  },
  {
   "cell_type": "code",
   "execution_count": 47,
   "metadata": {},
   "outputs": [],
   "source": [
    "with open('data/train/text_new', 'w') as f:\n",
    "    for row in data:\n",
    "        res = [char for char in row[1]]\n",
    "        t = ' '.join(res)\n",
    "        f.write(f'{row[0]} {t}\\n')"
   ]
  }
 ],
 "metadata": {
  "kernelspec": {
   "display_name": "Python 3",
   "language": "python",
   "name": "python3"
  },
  "language_info": {
   "codemirror_mode": {
    "name": "ipython",
    "version": 3
   },
   "file_extension": ".py",
   "mimetype": "text/x-python",
   "name": "python",
   "nbconvert_exporter": "python",
   "pygments_lexer": "ipython3",
   "version": "3.7.3"
  }
 },
 "nbformat": 4,
 "nbformat_minor": 4
}
