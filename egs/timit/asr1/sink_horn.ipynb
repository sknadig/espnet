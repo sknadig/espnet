{
 "cells": [
  {
   "cell_type": "code",
   "execution_count": 1,
   "metadata": {},
   "outputs": [],
   "source": [
    "import numpy as np\n",
    "import pickle\n",
    "import torch\n",
    "import torch.nn.functional as F\n",
    "import matplotlib.pyplot as plt\n",
    "from layers import SinkhornDistance\n",
    "from torch.autograd import Variable\n"
   ]
  },
  {
   "cell_type": "code",
   "execution_count": 2,
   "metadata": {},
   "outputs": [],
   "source": [
    "a = Variable(torch.zeros(2,10), requires_grad = True)\n",
    "b = torch.zeros(a.size())\n",
    "a.data[0][3:7] = 1\n",
    "b.data[0][3:5] = 1\n",
    "a.data[1][1:3] = 1\n",
    "b.data[1][8:] = 1"
   ]
  },
  {
   "cell_type": "code",
   "execution_count": 3,
   "metadata": {},
   "outputs": [
    {
     "data": {
      "text/plain": [
       "(tensor([[0., 0., 0., 1., 1., 1., 1., 0., 0., 0.],\n",
       "         [0., 1., 1., 0., 0., 0., 0., 0., 0., 0.]], requires_grad=True),\n",
       " tensor([[0., 0., 0., 1., 1., 0., 0., 0., 0., 0.],\n",
       "         [0., 0., 0., 0., 0., 0., 0., 0., 1., 1.]]))"
      ]
     },
     "execution_count": 3,
     "metadata": {},
     "output_type": "execute_result"
    }
   ],
   "source": [
    "a,b"
   ]
  },
  {
   "cell_type": "code",
   "execution_count": 4,
   "metadata": {},
   "outputs": [],
   "source": [
    "sinkhorn = SinkhornDistance(eps=1e-5, max_iter=100, reduction=None)"
   ]
  },
  {
   "cell_type": "code",
   "execution_count": 5,
   "metadata": {},
   "outputs": [],
   "source": [
    "dist, P, C = sinkhorn(a,b)"
   ]
  },
  {
   "cell_type": "code",
   "execution_count": 6,
   "metadata": {},
   "outputs": [],
   "source": [
    "dist.backward()"
   ]
  },
  {
   "cell_type": "code",
   "execution_count": 7,
   "metadata": {},
   "outputs": [
    {
     "data": {
      "text/plain": [
       "tensor([[ 0.0000e+00,  0.0000e+00,  0.0000e+00,  0.0000e+00,  0.0000e+00,\n",
       "          7.9688e-01,  7.9688e-01,  0.0000e+00,  0.0000e+00,  0.0000e+00],\n",
       "        [ 0.0000e+00,  9.1923e+01,  9.1923e+01,  7.9641e+03,  7.9641e+03,\n",
       "          0.0000e+00,  0.0000e+00,  0.0000e+00, -8.0561e+03, -8.0561e+03]])"
      ]
     },
     "execution_count": 7,
     "metadata": {},
     "output_type": "execute_result"
    }
   ],
   "source": [
    "a.grad"
   ]
  },
  {
   "cell_type": "code",
   "execution_count": 8,
   "metadata": {},
   "outputs": [
    {
     "data": {
      "text/plain": [
       "<Figure size 432x288 with 0 Axes>"
      ]
     },
     "metadata": {},
     "output_type": "display_data"
    },
    {
     "data": {
      "image/png": "[encoded data removed]",
      "text/plain": [
       "<Figure size 432x288 with 3 Axes>"
      ]
     },
     "metadata": {
      "needs_background": "light"
     },
     "output_type": "display_data"
    },
    {
     "data": {
      "text/plain": [
       "<Figure size 432x288 with 0 Axes>"
      ]
     },
     "metadata": {},
     "output_type": "display_data"
    },
    {
     "data": {
      "image/png": "[encoded data removed]",
      "text/plain": [
       "<Figure size 432x288 with 3 Axes>"
      ]
     },
     "metadata": {
      "needs_background": "light"
     },
     "output_type": "display_data"
    }
   ],
   "source": [
    "for i in range(len(a)):\n",
    "    plt.figure()\n",
    "    fig, ax = plt.subplots(3,1)\n",
    "    ax[0].plot(a[i].detach().numpy())\n",
    "    ax[1].plot(b[i].detach().numpy())\n",
    "    ax[2].plot(a.grad[i].numpy())"
   ]
  },
  {
   "cell_type": "code",
   "execution_count": 9,
   "metadata": {},
   "outputs": [],
   "source": [
    "z = torch.rand(3,2,10)"
   ]
  },
  {
   "cell_type": "code",
   "execution_count": 10,
   "metadata": {},
   "outputs": [
    {
     "data": {
      "text/plain": [
       "tensor([[[0.0541, 0.8526, 0.0328, 0.7314, 0.2923, 0.1854, 0.8259, 0.7944,\n",
       "          0.9917, 0.4204],\n",
       "         [0.1133, 0.0728, 0.3538, 0.3312, 0.0096, 0.9699, 0.7714, 0.3285,\n",
       "          0.6758, 0.8822]],\n",
       "\n",
       "        [[0.8963, 0.5330, 0.9803, 0.0854, 0.7279, 0.4254, 0.6091, 0.2677,\n",
       "          0.6681, 0.8743],\n",
       "         [0.5331, 0.2657, 0.2022, 0.3054, 0.3139, 0.3064, 0.0840, 0.0546,\n",
       "          0.4873, 0.8730]],\n",
       "\n",
       "        [[0.2157, 0.5864, 0.1586, 0.8958, 0.3286, 0.7943, 0.8259, 0.3418,\n",
       "          0.3424, 0.1161],\n",
       "         [0.9662, 0.7801, 0.1004, 0.0676, 0.9336, 0.2239, 0.1077, 0.5718,\n",
       "          0.3814, 0.9051]]])"
      ]
     },
     "execution_count": 10,
     "metadata": {},
     "output_type": "execute_result"
    }
   ],
   "source": [
    "z"
   ]
  },
  {
   "cell_type": "code",
   "execution_count": 18,
   "metadata": {},
   "outputs": [
    {
     "data": {
      "text/plain": [
       "tensor(1.0000)"
      ]
     },
     "execution_count": 18,
     "metadata": {},
     "output_type": "execute_result"
    }
   ],
   "source": [
    "torch.sum(F.softmax(z, dim=2)[0][0])"
   ]
  }
 ],
 "metadata": {
  "kernelspec": {
   "display_name": "Python 3",
   "language": "python",
   "name": "python3"
  },
  "language_info": {
   "codemirror_mode": {
    "name": "ipython",
    "version": 3
   },
   "file_extension": ".py",
   "mimetype": "text/x-python",
   "name": "python",
   "nbconvert_exporter": "python",
   "pygments_lexer": "ipython3",
   "version": "3.7.3"
  }
 },
 "nbformat": 4,
 "nbformat_minor": 2
}
