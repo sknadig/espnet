{
 "cells": [
  {
   "cell_type": "code",
   "execution_count": 9,
   "metadata": {},
   "outputs": [],
   "source": [
    "import json"
   ]
  },
  {
   "cell_type": "code",
   "execution_count": 10,
   "metadata": {},
   "outputs": [],
   "source": [
    "target1_json = json.load(open('dump/test/deltafalse/data_phn.json', 'r'))\n",
    "target2_json = json.load(open('dump/test/deltafalse/data_char.json', 'r'))"
   ]
  },
  {
   "cell_type": "code",
   "execution_count": 11,
   "metadata": {},
   "outputs": [],
   "source": [
    "target1_keys = target1_json['utts'].keys()\n",
    "target2_keys = target2_json['utts'].keys()"
   ]
  },
  {
   "cell_type": "code",
   "execution_count": 12,
   "metadata": {},
   "outputs": [],
   "source": [
    "out_json = {'utts' : {}}"
   ]
  },
  {
   "cell_type": "code",
   "execution_count": 13,
   "metadata": {},
   "outputs": [],
   "source": [
    "def change_target_id(output, target_id):\n",
    "    output[0]['name'] = 'target'+str(target_id)\n",
    "    return output"
   ]
  },
  {
   "cell_type": "code",
   "execution_count": 14,
   "metadata": {},
   "outputs": [],
   "source": [
    "for key in list(target1_keys):\n",
    "    for target_id, target_json in enumerate([target1_json, target2_json]):\n",
    "        if key not in list(out_json['utts'].keys()):\n",
    "            out_json['utts'][key] = {}\n",
    "        out_json['utts'][key]['input'] = target_json['utts'][key]['input']\n",
    "        if 'output' not in list(out_json['utts'][key].keys()):\n",
    "            out_json['utts'][key]['output'] = []\n",
    "        out_json['utts'][key]['output'].append(change_target_id(target_json['utts'][key]['output'], target_id))"
   ]
  },
  {
   "cell_type": "code",
   "execution_count": 16,
   "metadata": {},
   "outputs": [
    {
     "data": {
      "text/plain": [
       "[[{'name': 'target0',\n",
       "   'shape': [50, 42],\n",
       "   'text.phn': 'sil v ih sh uw ah l iy dh iy z ih sil p r aa sil k s ih m ey dx ih sil w ah dx iy w ih s f iy l iy n w ih sil th ih n ih m s eh l f sil',\n",
       "   'token': '<space> v ih sh uw ah l iy dh iy z ih <space> p r aa <space> k s ih m ey dx ih <space> w ah dx iy w ih s f iy l iy n w ih <space> th ih n ih m s eh l f <space>',\n",
       "   'tokenid': '2 37 19 32 36 5 23 20 11 20 40 19 2 29 30 3 2 22 31 19 24 15 12 19 2 38 5 12 20 38 19 31 16 20 23 20 25 38 19 2 34 19 25 19 24 31 13 23 16 2'}],\n",
       " [{'name': 'target1',\n",
       "   'shape': [62, 29],\n",
       "   'text.char': 'visually these approximated what he was feeling within himself',\n",
       "   'token': 'v i s u a l l y <space> t h e s e <space> a p p r o x i m a t e d <space> w h a t <space> h e <space> w a s <space> f e e l i n g <space> w i t h i n <space> h i m s e l f',\n",
       "   'tokenid': '23 11 20 22 3 14 14 26 2 21 10 7 20 7 2 3 18 18 19 17 25 11 15 3 21 7 6 2 24 10 3 21 2 10 7 2 24 3 20 2 8 7 7 14 11 16 9 2 24 11 21 10 11 16 2 10 11 15 20 7 14 8'}]]"
      ]
     },
     "execution_count": 16,
     "metadata": {},
     "output_type": "execute_result"
    }
   ],
   "source": [
    "out_json['utts']['FDHC0_SI1559']['output']"
   ]
  },
  {
   "cell_type": "code",
   "execution_count": 22,
   "metadata": {},
   "outputs": [],
   "source": [
    "with open('temp2.json', 'w') as f:\n",
    "    f.write(json.dumps(out_json, indent=4, sort_keys=True))"
   ]
  }
 ],
 "metadata": {
  "kernelspec": {
   "display_name": "Python 3",
   "language": "python",
   "name": "python3"
  },
  "language_info": {
   "codemirror_mode": {
    "name": "ipython",
    "version": 3
   },
   "file_extension": ".py",
   "mimetype": "text/x-python",
   "name": "python",
   "nbconvert_exporter": "python",
   "pygments_lexer": "ipython3",
   "version": "3.7.3"
  }
 },
 "nbformat": 4,
 "nbformat_minor": 4
}
