{
 "cells": [
  {
   "cell_type": "code",
   "execution_count": 4,
   "metadata": {},
   "outputs": [],
   "source": [
    "import torch\n",
    "import torch.utils.data\n",
    "import torch.nn as nn\n",
    "import torch.optim as optim\n",
    "from torch.autograd import Variable, Function"
   ]
  },
  {
   "cell_type": "code",
   "execution_count": 5,
   "metadata": {},
   "outputs": [],
   "source": [
    "class WassersteinLossVanilla(Function):\n",
    "    def __init__(self,cost, lam = 1e-3, sinkhorn_iter = 50):\n",
    "        super(WassersteinLossVanilla,self).__init__()\n",
    "        \n",
    "        # cost = matrix M = distance matrix\n",
    "        # lam = lambda of type float > 0\n",
    "        # sinkhorn_iter > 0\n",
    "        # diagonal cost should be 0\n",
    "        self.cost = cost\n",
    "        self.lam = lam\n",
    "        self.sinkhorn_iter = sinkhorn_iter\n",
    "        self.na = cost.size(0)\n",
    "        self.nb = cost.size(1)\n",
    "        self.K = torch.exp(-self.cost/self.lam)\n",
    "        self.KM = self.cost*self.K\n",
    "        self.stored_grad = None\n",
    "        \n",
    "    def forward(self, pred, target):\n",
    "        \"\"\"pred: Batch * K: K = # mass points\n",
    "           target: Batch * L: L = # mass points\"\"\"\n",
    "        assert pred.size(1)==self.na\n",
    "        assert target.size(1)==self.nb\n",
    "\n",
    "        nbatch = pred.size(0)\n",
    "        \n",
    "        u = self.cost.new(nbatch, self.na).fill_(1.0/self.na)\n",
    "        \n",
    "        for i in range(self.sinkhorn_iter):\n",
    "            v = target/(torch.mm(u,self.K.t())) # double check K vs. K.t() here and next line\n",
    "            u = pred/(torch.mm(v,self.K))\n",
    "            #print (\"stability at it\",i, \"u\",(u!=u).sum(),u.max(),\"v\", (v!=v).sum(), v.max())\n",
    "            if (u!=u).sum()>0 or (v!=v).sum()>0 or u.max()>1e9 or v.max()>1e9: # u!=u is a test for NaN...\n",
    "                # we have reached the machine precision\n",
    "                # come back to previous solution and quit loop\n",
    "                raise Exception(str(('Warning: numerical errrors',i+1,\"u\",(u!=u).sum(),u.max(),\"v\",(v!=v).sum(),v.max())))\n",
    "\n",
    "        loss = (u*torch.mm(v,self.KM.t())).mean(0).sum() # double check KM vs KM.t()...\n",
    "        grad = self.lam*u.log()/nbatch # check whether u needs to be transformed        \n",
    "        grad = grad-torch.mean(grad,dim=1).expand_as(grad)\n",
    "        grad = grad-torch.mean(grad,dim=1).expand_as(grad) # does this help over only once?\n",
    "        self.stored_grad = grad\n",
    "\n",
    "        dist = self.cost.new((loss,))\n",
    "        return dist\n",
    "    def backward(self, grad_output):\n",
    "        #print (grad_output.size(), self.stored_grad.size())\n",
    "        return self.stored_grad*grad_output[0],None"
   ]
  },
  {
   "cell_type": "code",
   "execution_count": 6,
   "metadata": {},
   "outputs": [],
   "source": [
    "a = Variable(torch.zeros(2,10), requires_grad = True)\n",
    "b = torch.zeros(a.size())\n",
    "a.data[0][3:7] = 1\n",
    "b.data[0][3:5] = 1\n",
    "a.data[1][1:3] = 1\n",
    "b.data[1][8:] = 1"
   ]
  },
  {
   "cell_type": "code",
   "execution_count": null,
   "metadata": {},
   "outputs": [],
   "source": [
    "wv = WassersteinLossVanilla"
   ]
  }
 ],
 "metadata": {
  "kernelspec": {
   "display_name": "Python 3",
   "language": "python",
   "name": "python3"
  },
  "language_info": {
   "codemirror_mode": {
    "name": "ipython",
    "version": 3
   },
   "file_extension": ".py",
   "mimetype": "text/x-python",
   "name": "python",
   "nbconvert_exporter": "python",
   "pygments_lexer": "ipython3",
   "version": "3.7.3"
  }
 },
 "nbformat": 4,
 "nbformat_minor": 2
}
