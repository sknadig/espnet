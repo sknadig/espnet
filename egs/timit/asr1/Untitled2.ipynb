{
 "cells": [
  {
   "cell_type": "code",
   "execution_count": 1,
   "metadata": {},
   "outputs": [],
   "source": [
    "import json"
   ]
  },
  {
   "cell_type": "code",
   "execution_count": 3,
   "metadata": {},
   "outputs": [],
   "source": [
    "char_json = json.load(open(\"exp/train_nodev_pytorch_mh_decode/decode_test_decode/data.char.1.json\", \"r\"))"
   ]
  },
  {
   "cell_type": "code",
   "execution_count": 13,
   "metadata": {},
   "outputs": [],
   "source": [
    "tokens = []\n",
    "rec_tokens = []"
   ]
  },
  {
   "cell_type": "code",
   "execution_count": 14,
   "metadata": {},
   "outputs": [],
   "source": [
    "for utt in char_json[\"utts\"]:\n",
    "    token = char_json[\"utts\"][\"FDHC0_SI1559\"][\"output\"][0][\"token\"]\n",
    "    rec_token = char_json[\"utts\"][\"FDHC0_SI1559\"][\"output\"][0][\"rec_token\"]\n",
    "    tokens.append(token)\n",
    "    rec_tokens.append(rec_token)"
   ]
  },
  {
   "cell_type": "code",
   "execution_count": 15,
   "metadata": {},
   "outputs": [
    {
     "data": {
      "text/plain": [
       "('<space> v ih sh uw ah l iy dh iy z ih <space> p r aa <space> k s ih m ey dx ih <space> w ah dx iy w ih s f iy l iy n w ih <space> th ih n ih m s eh l f <space>',\n",
       " 'v i s u a l l y <space> t h e s <space> a <space> p r o c e s <space> i m a t e d <space> w i l d y <space> w a s <space> f e e l y <space> w i t h <space> i n <space> i m s e l f <eos>')"
      ]
     },
     "execution_count": 15,
     "metadata": {},
     "output_type": "execute_result"
    }
   ],
   "source": [
    "tokens[0], rec_tokens[0]"
   ]
  }
 ],
 "metadata": {
  "kernelspec": {
   "display_name": "Python 3",
   "language": "python",
   "name": "python3"
  },
  "language_info": {
   "codemirror_mode": {
    "name": "ipython",
    "version": 3
   },
   "file_extension": ".py",
   "mimetype": "text/x-python",
   "name": "python",
   "nbconvert_exporter": "python",
   "pygments_lexer": "ipython3",
   "version": "3.7.3"
  }
 },
 "nbformat": 4,
 "nbformat_minor": 2
}
